{
 "cells": [
  {
   "cell_type": "code",
   "execution_count": 54,
   "outputs": [],
   "source": [
    "import pandas as pd\n",
    "import xlwings as xw\n",
    "import numpy as np\n",
    "pd.set_option('display.max_columns', 1000, 'display.max_rows',1000, 'display.max_colwidth', None)\n",
    "\n",
    "# a :2019, b:2020; c:2021; d:2022\n",
    "\n",
    "# locations\n",
    "d_location = r\"C:\\Users\\fernando.lamartine\\Box\\0 - Personal Working Folders (F Lamartine)\\SX Chile General Ledgers\\20221231_SX Chile_General Ledger Dic22 (Acum).xlsx\"\n",
    "c_location = r\"C:\\Users\\fernando.lamartine\\Box\\0 - Personal Working Folders (F Lamartine)\\SX Chile General Ledgers\\20211231_SX Chile_General Ledger Dic21 (Acum).xlsx\"\n",
    "b_location = r\"C:\\Users\\fernando.lamartine\\Box\\0 - Personal Working Folders (F Lamartine)\\SX Chile General Ledgers\\20201231_SX Chile_General Ledger Dec20 (Acum).xlsx\"\n",
    "a_location = r\"C:\\Users\\fernando.lamartine\\Box\\0 - Personal Working Folders (F Lamartine)\\SX Chile General Ledgers\\20191231_SX Chile_General Ledger December 2019 (Acum).xlsx\"\n",
    "\n",
    "d_fileName = \"20221231_SX Chile_General Ledger Dic22 (Acum).xlsx\"\n",
    "c_fileName = \"20211231_SX Chile_General Ledger Dic21 (Acum).xlsx\"\n",
    "b_fileName = \"20201231_SX Chile_General Ledger Dec20 (Acum).xlsx\"\n",
    "a_fileName = \"20191231_SX Chile_General Ledger December 2019 (Acum).xlsx\"\n",
    "\n",
    "dump_fileName = \"sxLedgers_dumpFile.xlsx\"\n",
    "\n",
    "d_rangeData = 'a1:o40000'\n",
    "c_rangeData = 'a1:o40000'\n",
    "b_rangeData = 'a1:o40000'\n",
    "a_rangeData = 'a1:o40000'\n",
    "\n",
    "dump_rangeData = 'a1'\n",
    "dump_rangeData_delete = 'a1:z1000'\n",
    "\n",
    "d_sheet = 'CW202301265BEB'\n",
    "c_sheet = 'CW202301265BEB'\n",
    "b_sheet = 'USD'\n",
    "a_sheet = 'CW202001218740'\n",
    "\n",
    "dump_sheet = 'Sheet1'\n",
    "\n",
    "\n",
    "d_book = xw.Book(d_fileName)\n",
    "c_book = xw.Book(c_fileName)\n",
    "b_book = xw.Book(b_fileName)\n",
    "a_book = xw.Book(a_fileName)\n",
    "\n",
    "x_book = xw.Book(a_fileName)\n",
    "\n",
    "d_data = d_book.sheets(d_sheet).range(d_rangeData).value\n",
    "\n",
    "\n",
    "# ledger_2022_read = xw.Book(ledger_2022_location).sheets('CW202301265BEB').range(ledger_2022_range_data).value\n",
    "df_d = pd.DataFrame(d_data)\n",
    "\n",
    "\n",
    "\n",
    "df_d.iloc[10]\n",
    "df_d_accounts_cont = df_d[df_d[0].str.contains('SALDO ANTERIOR DE LA CUENTA',na=False,case=False)]\n",
    "\n",
    "df_d_clean = df_d.drop([5,6,7,10], axis=1)\n",
    "df_d_clean2 = df_d_clean.dropna(thresh=2)\n",
    "\n",
    "# df_d_clean3=df_d_clean2.drop(df_d_clean2[df_d_clean2]\n",
    "# df_d_clean3 = df_d_clean2.dropna([df_d_clean2[0].str.contains('SALDO ANTERIOR DE LA CUENTA',na=False, case=False])\n",
    "# SALDO ANTERIOR DE LA CUENTA\n",
    "# df_d_unique_accounts = df_d_accounts[0].unique()\n",
    "\n",
    "# test = pd.Series(df_d_unique_accounts)\n",
    "\n",
    "# test.str.split(n=7)\n",
    "\n",
    "# df_d_unique_accounts.str.split()\n",
    "\n",
    "# df_d.iloc[15:20,0].str.split(n=1)\n",
    "\n",
    "xw.Book(dump_fileName).sheets(dump_sheet).range(dump_rangeData_delete).value = \"\"\n",
    "xw.Book(dump_fileName).sheets(dump_sheet).range(dump_rangeData).value = df_d_clean2\n",
    "\n"
   ],
   "metadata": {
    "collapsed": false,
    "pycharm": {
     "name": "#%%\n"
    }
   }
  },
  {
   "cell_type": "code",
   "execution_count": 37,
   "outputs": [],
   "source": [
    "\n"
   ],
   "metadata": {
    "collapsed": false,
    "pycharm": {
     "name": "#%%\n"
    }
   }
  }
 ],
 "metadata": {
  "kernelspec": {
   "display_name": "Python 3",
   "language": "python",
   "name": "python3"
  },
  "language_info": {
   "codemirror_mode": {
    "name": "ipython",
    "version": 2
   },
   "file_extension": ".py",
   "mimetype": "text/x-python",
   "name": "python",
   "nbconvert_exporter": "python",
   "pygments_lexer": "ipython2",
   "version": "2.7.6"
  }
 },
 "nbformat": 4,
 "nbformat_minor": 0
}